{
 "cells": [
  {
   "cell_type": "code",
   "execution_count": 9,
   "id": "1a3d9743-e86d-467f-b8bb-3de636ef642f",
   "metadata": {},
   "outputs": [
    {
     "name": "stdout",
     "output_type": "stream",
     "text": [
      "0\n",
      "1\n",
      "2\n",
      "3\n"
     ]
    },
    {
     "name": "stdin",
     "output_type": "stream",
     "text": [
      "enter your number 5\n"
     ]
    },
    {
     "name": "stdout",
     "output_type": "stream",
     "text": [
      "1\n",
      "2\n",
      "3\n",
      "4\n",
      "5\n"
     ]
    }
   ],
   "source": [
    "## Q no.1 :\n",
    "# The for loop is usually used when the number of iterations is known. For example,\n",
    "\n",
    "# this loop is iterated 4 times (0 to 3)\n",
    "for i in range(4):\n",
    "    print(i)\n",
    "    \n",
    "# The while loop is usually used when the number of iterations is unknown. For example,\n",
    "# while condition:\n",
    "    # run code until the condition evaluates to False   \n",
    "n=int(input(\"enter your number\"))    \n",
    "counter=1\n",
    "while counter <=n:\n",
    "    print(counter)\n",
    "    counter=counter +1\n",
    "\n",
    "\n",
    "\n",
    "\n"
   ]
  },
  {
   "cell_type": "code",
   "execution_count": 23,
   "id": "7306b29a-0a27-4322-b263-ffaeb8920995",
   "metadata": {},
   "outputs": [
    {
     "name": "stdout",
     "output_type": "stream",
     "text": [
      "the sum of first 10 no's is 55\n"
     ]
    }
   ],
   "source": [
    "## Q No. 2 :\n",
    "# using for loop\n",
    "# Initialize the sum variable \n",
    "total_sum = 0 \n",
    " \n",
    "# Iterate through the range of numbers from 1 to 10 (inclusive) \n",
    "for number in range(1, 11): \n",
    "    # Add the current number to the sum variable \n",
    "    total_sum += number \n",
    "print(\"the sum of first 10 no's is\",total_sum)"
   ]
  },
  {
   "cell_type": "code",
   "execution_count": 27,
   "id": "58f78af9-5d21-442e-a60b-7185a3c7498f",
   "metadata": {},
   "outputs": [
    {
     "name": "stdout",
     "output_type": "stream",
     "text": [
      "the sum is  55\n"
     ]
    }
   ],
   "source": [
    "# using while loop\n",
    "sum=0\n",
    "counter=0\n",
    "while counter<=10:\n",
    "    sum +=counter\n",
    "    counter=counter+1\n",
    "print(\"the sum is \",sum)\n"
   ]
  },
  {
   "cell_type": "code",
   "execution_count": 1,
   "id": "bf5e6ebc-d715-4e8e-ad4a-cbcaeb9c19ba",
   "metadata": {},
   "outputs": [
    {
     "name": "stdin",
     "output_type": "stream",
     "text": [
      "Enter the units of electricity consumed in a month:  250\n"
     ]
    },
    {
     "name": "stdout",
     "output_type": "stream",
     "text": [
      "Total electricity bill: Rs. 1550.0\n"
     ]
    }
   ],
   "source": [
    "## Q No. 3 :\n",
    "units_consumed = int(input(\"Enter the units of electricity consumed in a month: \"))\n",
    "\n",
    "total_bill = 0\n",
    "\n",
    "if units_consumed <= 100:\n",
    "    total_bill = units_consumed * 4.5\n",
    "elif units_consumed <= 200:\n",
    "    total_bill = 100 * 4.5 + (units_consumed - 100) * 6\n",
    "elif units_consumed <= 300:\n",
    "    total_bill = 100 * 4.5 + 100 * 6 + (units_consumed - 200) * 10\n",
    "else:\n",
    "    total_bill = 100 * 4.5 + 100 * 6 + 100 * 10 + (units_consumed - 300) * 20\n",
    "\n",
    "print(\"Total electricity bill: Rs.\", total_bill)\n"
   ]
  },
  {
   "cell_type": "code",
   "execution_count": 8,
   "id": "b40efb7c-1574-43e4-9177-a69d11441b94",
   "metadata": {},
   "outputs": [
    {
     "name": "stdout",
     "output_type": "stream",
     "text": [
      "Numbers with cube divisible by 4 or 5 (using for loop): [2, 4, 5, 6, 8, 10, 12, 14, 15, 16, 18, 20, 22, 24, 25, 26, 28, 30, 32, 34, 35, 36, 38, 40, 42, 44, 45, 46, 48, 50, 52, 54, 55, 56, 58, 60, 62, 64, 65, 66, 68, 70, 72, 74, 75, 76, 78, 80, 82, 84, 85, 86, 88, 90, 92, 94, 95, 96, 98, 100]\n",
      "Numbers with cube divisible by 4 or 5 (using while loop): [2, 4, 5, 6, 8, 10, 12, 14, 15, 16, 18, 20, 22, 24, 25, 26, 28, 30, 32, 34, 35, 36, 38, 40, 42, 44, 45, 46, 48, 50, 52, 54, 55, 56, 58, 60, 62, 64, 65, 66, 68, 70, 72, 74, 75, 76, 78, 80, 82, 84, 85, 86, 88, 90, 92, 94, 95, 96, 98, 100]\n"
     ]
    }
   ],
   "source": [
    "## Q No. 4 \n",
    "# Using for loop\n",
    "cube_list_for = []\n",
    "for number in range(1, 101):\n",
    "    cube = number ** 3\n",
    "    if cube % 4 == 0 or cube % 5 == 0:\n",
    "        cube_list_for.append(number)\n",
    "\n",
    "print(\"Numbers with cube divisible by 4 or 5 (using for loop):\", cube_list_for)\n",
    "\n",
    "# Using while loop\n",
    "cube_list_while = []\n",
    "number = 1\n",
    "while number <= 100:\n",
    "    cube = number ** 3\n",
    "    if cube % 4 == 0 or cube % 5 == 0:\n",
    "        cube_list_while.append(number)\n",
    "    number += 1\n",
    "\n",
    "print(\"Numbers with cube divisible by 4 or 5 (using while loop):\", cube_list_while)\n",
    "\n"
   ]
  },
  {
   "cell_type": "code",
   "execution_count": 7,
   "id": "e87b7b02-47c6-4856-8e88-4e39311c3747",
   "metadata": {},
   "outputs": [
    {
     "name": "stdout",
     "output_type": "stream",
     "text": [
      "The filtered letters are:\n",
      "a\n",
      "o\n",
      "e\n",
      "o\n",
      "e\n",
      "a\n",
      "a\n",
      "a\n",
      "i\n",
      "e\n",
      "i\n"
     ]
    }
   ],
   "source": [
    "## Q No. 5 :\n",
    "# function that filters vowels\n",
    "def fun(variable):\n",
    "    letters = ['a', 'e', 'i', 'o', 'u']\n",
    "    if (variable in letters):\n",
    "        return True\n",
    "    else:\n",
    "        return False\n",
    " \n",
    " \n",
    "# sequence\n",
    "string = \"I want to become a data scientist\"\n",
    "# using filter function\n",
    "filtered = filter(fun, string)\n",
    " \n",
    "print('The filtered letters are:')\n",
    "for s in filtered:\n",
    "    print(s)"
   ]
  }
 ],
 "metadata": {
  "kernelspec": {
   "display_name": "Python 3 (ipykernel)",
   "language": "python",
   "name": "python3"
  },
  "language_info": {
   "codemirror_mode": {
    "name": "ipython",
    "version": 3
   },
   "file_extension": ".py",
   "mimetype": "text/x-python",
   "name": "python",
   "nbconvert_exporter": "python",
   "pygments_lexer": "ipython3",
   "version": "3.10.8"
  }
 },
 "nbformat": 4,
 "nbformat_minor": 5
}
